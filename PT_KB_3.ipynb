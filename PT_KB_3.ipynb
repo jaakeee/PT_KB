{
  "nbformat": 4,
  "nbformat_minor": 0,
  "metadata": {
    "colab": {
      "provenance": [],
      "gpuType": "T4"
    },
    "kernelspec": {
      "name": "python3",
      "display_name": "Python 3"
    },
    "language_info": {
      "name": "python"
    },
    "accelerator": "GPU"
  },
  "cells": [
    {
      "cell_type": "code",
      "execution_count": 1,
      "metadata": {
        "colab": {
          "base_uri": "https://localhost:8080/",
          "height": 73
        },
        "id": "Y50QgcgmzcNR",
        "outputId": "67f1a2b2-1107-4949-8b6d-4f750be94945"
      },
      "outputs": [
        {
          "output_type": "display_data",
          "data": {
            "text/plain": [
              "<IPython.core.display.HTML object>"
            ],
            "text/html": [
              "\n",
              "     <input type=\"file\" id=\"files-3513fe44-a3f9-4a16-b970-8585d4ce788f\" name=\"files[]\" multiple disabled\n",
              "        style=\"border:none\" />\n",
              "     <output id=\"result-3513fe44-a3f9-4a16-b970-8585d4ce788f\">\n",
              "      Upload widget is only available when the cell has been executed in the\n",
              "      current browser session. Please rerun this cell to enable.\n",
              "      </output>\n",
              "      <script>// Copyright 2017 Google LLC\n",
              "//\n",
              "// Licensed under the Apache License, Version 2.0 (the \"License\");\n",
              "// you may not use this file except in compliance with the License.\n",
              "// You may obtain a copy of the License at\n",
              "//\n",
              "//      http://www.apache.org/licenses/LICENSE-2.0\n",
              "//\n",
              "// Unless required by applicable law or agreed to in writing, software\n",
              "// distributed under the License is distributed on an \"AS IS\" BASIS,\n",
              "// WITHOUT WARRANTIES OR CONDITIONS OF ANY KIND, either express or implied.\n",
              "// See the License for the specific language governing permissions and\n",
              "// limitations under the License.\n",
              "\n",
              "/**\n",
              " * @fileoverview Helpers for google.colab Python module.\n",
              " */\n",
              "(function(scope) {\n",
              "function span(text, styleAttributes = {}) {\n",
              "  const element = document.createElement('span');\n",
              "  element.textContent = text;\n",
              "  for (const key of Object.keys(styleAttributes)) {\n",
              "    element.style[key] = styleAttributes[key];\n",
              "  }\n",
              "  return element;\n",
              "}\n",
              "\n",
              "// Max number of bytes which will be uploaded at a time.\n",
              "const MAX_PAYLOAD_SIZE = 100 * 1024;\n",
              "\n",
              "function _uploadFiles(inputId, outputId) {\n",
              "  const steps = uploadFilesStep(inputId, outputId);\n",
              "  const outputElement = document.getElementById(outputId);\n",
              "  // Cache steps on the outputElement to make it available for the next call\n",
              "  // to uploadFilesContinue from Python.\n",
              "  outputElement.steps = steps;\n",
              "\n",
              "  return _uploadFilesContinue(outputId);\n",
              "}\n",
              "\n",
              "// This is roughly an async generator (not supported in the browser yet),\n",
              "// where there are multiple asynchronous steps and the Python side is going\n",
              "// to poll for completion of each step.\n",
              "// This uses a Promise to block the python side on completion of each step,\n",
              "// then passes the result of the previous step as the input to the next step.\n",
              "function _uploadFilesContinue(outputId) {\n",
              "  const outputElement = document.getElementById(outputId);\n",
              "  const steps = outputElement.steps;\n",
              "\n",
              "  const next = steps.next(outputElement.lastPromiseValue);\n",
              "  return Promise.resolve(next.value.promise).then((value) => {\n",
              "    // Cache the last promise value to make it available to the next\n",
              "    // step of the generator.\n",
              "    outputElement.lastPromiseValue = value;\n",
              "    return next.value.response;\n",
              "  });\n",
              "}\n",
              "\n",
              "/**\n",
              " * Generator function which is called between each async step of the upload\n",
              " * process.\n",
              " * @param {string} inputId Element ID of the input file picker element.\n",
              " * @param {string} outputId Element ID of the output display.\n",
              " * @return {!Iterable<!Object>} Iterable of next steps.\n",
              " */\n",
              "function* uploadFilesStep(inputId, outputId) {\n",
              "  const inputElement = document.getElementById(inputId);\n",
              "  inputElement.disabled = false;\n",
              "\n",
              "  const outputElement = document.getElementById(outputId);\n",
              "  outputElement.innerHTML = '';\n",
              "\n",
              "  const pickedPromise = new Promise((resolve) => {\n",
              "    inputElement.addEventListener('change', (e) => {\n",
              "      resolve(e.target.files);\n",
              "    });\n",
              "  });\n",
              "\n",
              "  const cancel = document.createElement('button');\n",
              "  inputElement.parentElement.appendChild(cancel);\n",
              "  cancel.textContent = 'Cancel upload';\n",
              "  const cancelPromise = new Promise((resolve) => {\n",
              "    cancel.onclick = () => {\n",
              "      resolve(null);\n",
              "    };\n",
              "  });\n",
              "\n",
              "  // Wait for the user to pick the files.\n",
              "  const files = yield {\n",
              "    promise: Promise.race([pickedPromise, cancelPromise]),\n",
              "    response: {\n",
              "      action: 'starting',\n",
              "    }\n",
              "  };\n",
              "\n",
              "  cancel.remove();\n",
              "\n",
              "  // Disable the input element since further picks are not allowed.\n",
              "  inputElement.disabled = true;\n",
              "\n",
              "  if (!files) {\n",
              "    return {\n",
              "      response: {\n",
              "        action: 'complete',\n",
              "      }\n",
              "    };\n",
              "  }\n",
              "\n",
              "  for (const file of files) {\n",
              "    const li = document.createElement('li');\n",
              "    li.append(span(file.name, {fontWeight: 'bold'}));\n",
              "    li.append(span(\n",
              "        `(${file.type || 'n/a'}) - ${file.size} bytes, ` +\n",
              "        `last modified: ${\n",
              "            file.lastModifiedDate ? file.lastModifiedDate.toLocaleDateString() :\n",
              "                                    'n/a'} - `));\n",
              "    const percent = span('0% done');\n",
              "    li.appendChild(percent);\n",
              "\n",
              "    outputElement.appendChild(li);\n",
              "\n",
              "    const fileDataPromise = new Promise((resolve) => {\n",
              "      const reader = new FileReader();\n",
              "      reader.onload = (e) => {\n",
              "        resolve(e.target.result);\n",
              "      };\n",
              "      reader.readAsArrayBuffer(file);\n",
              "    });\n",
              "    // Wait for the data to be ready.\n",
              "    let fileData = yield {\n",
              "      promise: fileDataPromise,\n",
              "      response: {\n",
              "        action: 'continue',\n",
              "      }\n",
              "    };\n",
              "\n",
              "    // Use a chunked sending to avoid message size limits. See b/62115660.\n",
              "    let position = 0;\n",
              "    do {\n",
              "      const length = Math.min(fileData.byteLength - position, MAX_PAYLOAD_SIZE);\n",
              "      const chunk = new Uint8Array(fileData, position, length);\n",
              "      position += length;\n",
              "\n",
              "      const base64 = btoa(String.fromCharCode.apply(null, chunk));\n",
              "      yield {\n",
              "        response: {\n",
              "          action: 'append',\n",
              "          file: file.name,\n",
              "          data: base64,\n",
              "        },\n",
              "      };\n",
              "\n",
              "      let percentDone = fileData.byteLength === 0 ?\n",
              "          100 :\n",
              "          Math.round((position / fileData.byteLength) * 100);\n",
              "      percent.textContent = `${percentDone}% done`;\n",
              "\n",
              "    } while (position < fileData.byteLength);\n",
              "  }\n",
              "\n",
              "  // All done.\n",
              "  yield {\n",
              "    response: {\n",
              "      action: 'complete',\n",
              "    }\n",
              "  };\n",
              "}\n",
              "\n",
              "scope.google = scope.google || {};\n",
              "scope.google.colab = scope.google.colab || {};\n",
              "scope.google.colab._files = {\n",
              "  _uploadFiles,\n",
              "  _uploadFilesContinue,\n",
              "};\n",
              "})(self);\n",
              "</script> "
            ]
          },
          "metadata": {}
        },
        {
          "output_type": "stream",
          "name": "stdout",
          "text": [
            "Saving anime.csv to anime.csv\n"
          ]
        }
      ],
      "source": [
        "from google.colab import files\n",
        "uploaded = files.upload()"
      ]
    },
    {
      "cell_type": "code",
      "source": [
        "import pandas as pd\n",
        "df = pd.read_csv(\"/content/anime.csv\")\n",
        "\n",
        "print(\"Jumlah data awal:\", len(df))\n",
        "print(\"\\nCek missing value:\")\n",
        "print(df.isnull().sum())\n",
        "\n",
        "df['episodes'] = pd.to_numeric(df['episodes'], errors='coerce')\n",
        "\n",
        "for col in df.columns:\n",
        "   if df[col].dtype in ['float64', 'int64']:\n",
        "    df[col] = df[col].fillna(df[col].median())\n",
        "else:\n",
        "    df[col] = df[col].fillna(df[col].mode()[0])\n",
        "\n",
        "df.drop_duplicates(inplace=True)\n",
        "\n",
        "numeric_cols = ['episodes', 'rating', 'members']\n",
        "Q1 = df[numeric_cols].quantile(0.25)\n",
        "Q3 = df[numeric_cols].quantile(0.75)\n",
        "IQR = Q3 - Q1\n",
        "\n",
        "df = df[~((df[numeric_cols] < (Q1 - 1.5 * IQR)) | (df[numeric_cols] > (Q3 + 1.5 * IQR))).any(axis=1)]\n",
        "\n",
        "print(\"\\nJumlah data setelah cleaning:\", len(df))\n",
        "print(\"\\nCek missing value setelah cleaning:\")\n",
        "print(df.isnull().sum())\n"
      ],
      "metadata": {
        "colab": {
          "base_uri": "https://localhost:8080/"
        },
        "id": "4t6lvGdzztP3",
        "outputId": "5215501a-f27a-4020-9bad-1d3af970ed3c"
      },
      "execution_count": 4,
      "outputs": [
        {
          "output_type": "stream",
          "name": "stdout",
          "text": [
            "Jumlah data awal: 12294\n",
            "\n",
            "Cek missing value:\n",
            "anime_id      0\n",
            "name          0\n",
            "genre        62\n",
            "type         25\n",
            "episodes      0\n",
            "rating      230\n",
            "members       0\n",
            "dtype: int64\n",
            "\n",
            "Jumlah data setelah cleaning: 9164\n",
            "\n",
            "Cek missing value setelah cleaning:\n",
            "anime_id     0\n",
            "name         0\n",
            "genre       58\n",
            "type        24\n",
            "episodes     0\n",
            "rating       0\n",
            "members      0\n",
            "dtype: int64\n"
          ]
        }
      ]
    },
    {
      "cell_type": "code",
      "source": [
        "from sklearn.preprocessing import MinMaxScaler, StandardScaler\n",
        "numeric_cols = ['episodes', 'rating', 'members']\n",
        "\n",
        "\n",
        "scaler_minmax = MinMaxScaler()\n",
        "df_normalized = df.copy()\n",
        "df_normalized[numeric_cols] = scaler_minmax.fit_transform(df[numeric_cols])\n",
        "\n",
        "scaler_standard = StandardScaler()\n",
        "df_standardized = df.copy()\n",
        "df_standardized[numeric_cols] = scaler_standard.fit_transform(df[numeric_cols])\n",
        "\n",
        "print(\"\\nContoh hasil normalisasi:\")\n",
        "print(df_normalized[numeric_cols].head())\n",
        "\n",
        "print(\"\\nContoh hasil standarisasi:\")\n",
        "print(df_standardized[numeric_cols].head())"
      ],
      "metadata": {
        "colab": {
          "base_uri": "https://localhost:8080/"
        },
        "id": "mkdWo4rJ0IsU",
        "outputId": "fd1446fd-050d-43f0-f8b2-b8fc3de7cfdd"
      },
      "execution_count": 10,
      "outputs": [
        {
          "output_type": "stream",
          "name": "stdout",
          "text": [
            "\n",
            "Contoh hasil normalisasi:\n",
            "     episodes  rating   members\n",
            "41   0.037037   0.938  0.729787\n",
            "63   0.037037   0.920  0.478096\n",
            "103  0.037037   0.900  0.577213\n",
            "140  0.185185   0.884  0.664010\n",
            "165  0.000000   0.876  0.938747\n",
            "\n",
            "Contoh hasil standarisasi:\n",
            "     episodes    rating   members\n",
            "41  -0.367294  2.762450  2.710532\n",
            "63  -0.367294  2.658552  1.550668\n",
            "103 -0.367294  2.543109  2.007428\n",
            "140  0.228675  2.450755  2.407415\n",
            "165 -0.516286  2.404578  3.673479\n"
          ]
        }
      ]
    },
    {
      "cell_type": "code",
      "source": [
        "from sklearn.preprocessing import LabelEncoder, MultiLabelBinarizer\n",
        "\n",
        "df['genre'] = df['genre'].astype(str)\n",
        "\n",
        "le = LabelEncoder()\n",
        "df['type_encoded'] = le.fit_transform(df['type'])\n",
        "\n",
        "df['genre_list'] = df['genre'].apply(lambda x: [g.strip() for g in x.split(',') if g.strip().lower() != 'nan' and g.strip() != ''])\n",
        "\n",
        "mlb = MultiLabelBinarizer()\n",
        "genre_encoded = pd.DataFrame(mlb.fit_transform(df['genre_list']), columns=mlb.classes_)\n",
        "\n",
        "\n",
        "df_encoded = pd.concat([df, genre_encoded], axis=1)\n",
        "if 'nan' in df_encoded.columns:\n",
        "    df_encoded.drop(columns=['nan'], inplace=True)\n",
        "print(\"\\nContoh hasil data setelah encoding:\")\n",
        "print(df_encoded.head(3))"
      ],
      "metadata": {
        "colab": {
          "base_uri": "https://localhost:8080/"
        },
        "id": "H8iVXlln10zP",
        "outputId": "7602457d-4b97-4766-e97c-1c5bf67fb763"
      },
      "execution_count": 17,
      "outputs": [
        {
          "output_type": "stream",
          "name": "stdout",
          "text": [
            "\n",
            "Contoh hasil data setelah encoding:\n",
            "   anime_id                                         name  \\\n",
            "0     32366                   Gintama°: Aizome Kaori-hen   \n",
            "1     21899  Gintama: Yorinuki Gintama-san on Theater 2D   \n",
            "2     11917                          Major: World Series   \n",
            "\n",
            "                                               genre   type  episodes  rating  \\\n",
            "0                                     Comedy, Parody    OVA       2.0    8.69   \n",
            "1  Action, Comedy, Historical, Parody, Samurai, S...  Movie       2.0    8.60   \n",
            "2                              Comedy, Drama, Sports    OVA       2.0    8.50   \n",
            "\n",
            "   members  type_encoded                                         genre_list  \\\n",
            "0    16947             3                                   [Comedy, Parody]   \n",
            "1    11104             0  [Action, Comedy, Historical, Parody, Samurai, ...   \n",
            "2    13405             3                            [Comedy, Drama, Sports]   \n",
            "\n",
            "   Action  ...  Shounen Ai  Slice of Life  Space  Sports  Super Power  \\\n",
            "0       0  ...           0              0      0       0            0   \n",
            "1       1  ...           0              0      0       0            0   \n",
            "2       0  ...           0              0      0       1            0   \n",
            "\n",
            "   Supernatural  Thriller  Vampire  Yaoi  Yuri  \n",
            "0             0         0        0     0     0  \n",
            "1             0         0        0     0     0  \n",
            "2             0         0        0     0     0  \n",
            "\n",
            "[3 rows x 52 columns]\n"
          ]
        }
      ]
    },
    {
      "cell_type": "code",
      "source": [
        "genre_cols = [col for col in df.columns if col not in ['anime_id', 'name', 'genre', 'type', 'episodes', 'rating', 'members', 'type_encoded', 'genre_list']]\n",
        "df['jumlah_genre'] = df[genre_cols].sum(axis=1)\n",
        "df['popularitas'] = df['rating'] * df['members']\n",
        "print(\"Fitur baru ditambahkan: jumlah_genre & popularitas\")\n",
        "print(\"\\nContoh hasil data setelah feature engineering:\")\n",
        "print(df[['name', 'rating', 'members', 'jumlah_genre', 'popularitas']].head(5))"
      ],
      "metadata": {
        "colab": {
          "base_uri": "https://localhost:8080/"
        },
        "id": "zhr1deCQ2x2u",
        "outputId": "20363933-e834-49a9-87a2-e19c47faf8fc"
      },
      "execution_count": 21,
      "outputs": [
        {
          "output_type": "stream",
          "name": "stdout",
          "text": [
            "Fitur baru ditambahkan: jumlah_genre & popularitas\n",
            "\n",
            "Contoh hasil data setelah feature engineering:\n",
            "                                          name  rating  members  jumlah_genre  \\\n",
            "0                   Gintama°: Aizome Kaori-hen    8.69    16947     441808.29   \n",
            "1  Gintama: Yorinuki Gintama-san on Theater 2D    8.60    11104     286483.20   \n",
            "2                          Major: World Series    8.50    13405     341827.50   \n",
            "3               Mobile Suit Gundam: The Origin    8.42    15420     389509.20   \n",
            "4   Detective Conan Movie 13: The Raven Chaser    8.38    21798     548001.72   \n",
            "\n",
            "   popularitas  \n",
            "0    147269.43  \n",
            "1     95494.40  \n",
            "2    113942.50  \n",
            "3    129836.40  \n",
            "4    182667.24  \n"
          ]
        }
      ]
    },
    {
      "cell_type": "code",
      "source": [
        "from sklearn.model_selection import train_test_split\n",
        "X = df.drop(columns=['rating', 'name', 'genre', 'genre_list'])\n",
        "X_train, X_test, y_train, y_test = train_test_split(\n",
        "    X, y,\n",
        "    test_size=0.2,\n",
        "    random_state=42,\n",
        "    shuffle=True\n",
        ")\n",
        "print(\"Ukuran data training :\", X_train.shape)\n",
        "print(\"Ukuran data testing  :\", X_test.shape)"
      ],
      "metadata": {
        "colab": {
          "base_uri": "https://localhost:8080/"
        },
        "id": "Xlol1S1U3AV_",
        "outputId": "72b9044d-2bd9-4aca-90ea-85b8ac6ee6ea"
      },
      "execution_count": 24,
      "outputs": [
        {
          "output_type": "stream",
          "name": "stdout",
          "text": [
            "Ukuran data training : (7331, 7)\n",
            "Ukuran data testing  : (1833, 7)\n"
          ]
        }
      ]
    },
    {
      "cell_type": "markdown",
      "source": [
        "<H1>Data Preprocessing</H1>\n",
        "Tahap splitting data merupakan proses penting dalam machine learning untuk memisahkan dataset menjadi dua bagian utama, yaitu data training dan data testing. Data training digunakan untuk melatih model agar mampu mengenali pola dari data, sedangkan data testing digunakan untuk menguji kemampuan model terhadap data yang belum pernah dilihat sebelumnya. Tujuan utama dari pembagian ini adalah agar model tidak hanya menghafal data (overfitting), tetapi juga mampu melakukan generalisasi dengan baik terhadap data baru.\n",
        "\n",
        "Dalam penelitian ini, pembagian data dilakukan dengan menggunakan fungsi `train_test_split` dari library `scikit-learn`, dengan proporsi **80% untuk data training dan 20% untuk data testing**. Pembagian ini merupakan standar umum yang memberikan keseimbangan antara jumlah data untuk pelatihan dan pengujian. Parameter `random_state=42` digunakan agar hasil pembagian selalu konsisten setiap kali kode dijalankan, sehingga eksperimen dapat direproduksi ulang. Selain itu, parameter `shuffle=True` diterapkan agar data diacak terlebih dahulu sebelum dibagi, sehingga urutan data (misalnya berdasarkan tahun rilis atau genre anime) tidak mempengaruhi hasil pembagian dan tidak menimbulkan bias pada model.\n",
        "\n",
        "Secara keseluruhan, proses *splitting data* ini sangat penting untuk memastikan bahwa hasil evaluasi model bersifat objektif. Dengan cara ini, performa model dapat diukur secara adil menggunakan data yang benar-benar baru bagi model, sehingga tingkat akurasi yang diperoleh lebih mencerminkan kemampuan model dalam melakukan prediksi di dunia nyata.\n"
      ],
      "metadata": {
        "id": "0IMqvJTM5Uh_"
      }
    }
  ]
}